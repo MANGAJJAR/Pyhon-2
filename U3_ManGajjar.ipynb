{
 "cells": [
  {
   "cell_type": "markdown",
   "metadata": {},
   "source": [
    "# findall() function"
   ]
  },
  {
   "cell_type": "code",
   "execution_count": 3,
   "metadata": {},
   "outputs": [
    {
     "name": "stdout",
     "output_type": "stream",
     "text": [
      "['ai', 'ai']\n"
     ]
    }
   ],
   "source": [
    "import re\n",
    "txt = \"The Rain in Spain\"\n",
    "x = re.findall(\"ai\",txt)\n",
    "print(x)"
   ]
  },
  {
   "cell_type": "code",
   "execution_count": 5,
   "metadata": {},
   "outputs": [
    {
     "name": "stdout",
     "output_type": "stream",
     "text": [
      "['a', 'n', 'n', 'a', 'n']\n"
     ]
    }
   ],
   "source": [
    "import re\n",
    "txt = \"The Rain in Spain\"\n",
    "x = re.findall('[arn]',txt)\n",
    "print(x)"
   ]
  },
  {
   "cell_type": "code",
   "execution_count": 6,
   "metadata": {},
   "outputs": [
    {
     "name": "stdout",
     "output_type": "stream",
     "text": [
      "['T', 'h', 'e', ' ', 'R', 'i', ' ', 'i', ' ', 'S', 'p', 'i']\n"
     ]
    }
   ],
   "source": [
    "import re\n",
    "txt = \"The Rain in Spain\"\n",
    "x = re.findall('[^arn]',txt)\n",
    "print(x)"
   ]
  },
  {
   "cell_type": "code",
   "execution_count": 9,
   "metadata": {},
   "outputs": [
    {
     "name": "stdout",
     "output_type": "stream",
     "text": [
      "[]\n"
     ]
    }
   ],
   "source": [
    "import re\n",
    "txt = \"The Rain in Spain\"\n",
    "x = re.findall('paris',txt)\n",
    "print(x)"
   ]
  },
  {
   "cell_type": "code",
   "execution_count": 12,
   "metadata": {},
   "outputs": [
    {
     "name": "stdout",
     "output_type": "stream",
     "text": [
      "['h', 'e', 'a', 'i', 'i', 'a', 'i']\n"
     ]
    }
   ],
   "source": [
    "import re\n",
    "txt = \"The Rain in Spain\"\n",
    "x = re.findall('[a-m]',txt)\n",
    "print(x)"
   ]
  },
  {
   "cell_type": "code",
   "execution_count": 14,
   "metadata": {},
   "outputs": [
    {
     "name": "stdout",
     "output_type": "stream",
     "text": [
      "['2', '8']\n"
     ]
    }
   ],
   "source": [
    "import re\n",
    "txt = \"The Rain in Spain 28\"\n",
    "x = re.findall('\\d',txt)  #digit show\n",
    "print(x)"
   ]
  },
  {
   "cell_type": "code",
   "execution_count": 17,
   "metadata": {},
   "outputs": [
    {
     "name": "stdout",
     "output_type": "stream",
     "text": [
      "['28']\n"
     ]
    }
   ],
   "source": [
    "import re\n",
    "txt = \"The Rain in Spain 28\"\n",
    "x = re.findall('\\d+',txt)  #digit show \n",
    "print(x)"
   ]
  },
  {
   "cell_type": "code",
   "execution_count": 20,
   "metadata": {},
   "outputs": [
    {
     "name": "stdout",
     "output_type": "stream",
     "text": [
      "['3', '3', '28']\n"
     ]
    }
   ],
   "source": [
    "import re\n",
    "txt = \"The Rain 3xv3 in Spain 28\"\n",
    "x = re.findall('\\d+',txt)  #digit show \n",
    "print(x)"
   ]
  },
  {
   "cell_type": "code",
   "execution_count": 21,
   "metadata": {},
   "outputs": [
    {
     "name": "stdout",
     "output_type": "stream",
     "text": [
      "['hello']\n"
     ]
    }
   ],
   "source": [
    "import re\n",
    "txt = \"hello planet helo\"\n",
    "x = re.findall('he..o',txt)  # bcz of 2 dot\n",
    "print(x)"
   ]
  },
  {
   "cell_type": "code",
   "execution_count": 24,
   "metadata": {},
   "outputs": [
    {
     "name": "stdout",
     "output_type": "stream",
     "text": [
      "['hello planet ']\n"
     ]
    }
   ],
   "source": [
    "import re\n",
    "txt = \"hello planet helo\"\n",
    "x = re.findall('^h.+\\s',txt)  \n",
    "print(x)"
   ]
  },
  {
   "cell_type": "code",
   "execution_count": 25,
   "metadata": {},
   "outputs": [
    {
     "name": "stdout",
     "output_type": "stream",
     "text": [
      "['hello planet helo ']\n"
     ]
    }
   ],
   "source": [
    "import re\n",
    "txt = \"hello planet helo \"\n",
    "x = re.findall('^h.+\\s',txt)  # count also space\n",
    "print(x)"
   ]
  },
  {
   "cell_type": "code",
   "execution_count": 29,
   "metadata": {},
   "outputs": [
    {
     "name": "stdout",
     "output_type": "stream",
     "text": [
      "['planet']\n"
     ]
    }
   ],
   "source": [
    "import re\n",
    "txt = \"hello planet\"\n",
    "x = re.findall('planet$',txt)  # last wrod hovo joi \"$\"\n",
    "print(x)"
   ]
  },
  {
   "cell_type": "code",
   "execution_count": 35,
   "metadata": {},
   "outputs": [
    {
     "name": "stdout",
     "output_type": "stream",
     "text": [
      "['hello']\n"
     ]
    }
   ],
   "source": [
    "import re\n",
    "txt = \"hello hellar\"\n",
    "x = re.findall('hell.*o',txt)  # last o hovo joi , # * = zero or more word\n",
    "print(x)"
   ]
  },
  {
   "cell_type": "code",
   "execution_count": 34,
   "metadata": {},
   "outputs": [
    {
     "name": "stdout",
     "output_type": "stream",
     "text": [
      "['hello hellaro']\n"
     ]
    }
   ],
   "source": [
    "import re\n",
    "txt = \"hello hellaro\"\n",
    "x = re.findall('hell.*o',txt)  \n",
    "print(x)"
   ]
  },
  {
   "cell_type": "code",
   "execution_count": 36,
   "metadata": {},
   "outputs": [
    {
     "name": "stdout",
     "output_type": "stream",
     "text": [
      "[]\n"
     ]
    }
   ],
   "source": [
    "import re\n",
    "txt = \"hello hellar\"\n",
    "x = re.findall('hell.+o',txt)\n",
    "print(x)"
   ]
  },
  {
   "cell_type": "code",
   "execution_count": 37,
   "metadata": {},
   "outputs": [
    {
     "name": "stdout",
     "output_type": "stream",
     "text": [
      "['hello hellaro']\n"
     ]
    }
   ],
   "source": [
    "import re\n",
    "txt = \"hello hellaro\"\n",
    "x = re.findall('hell.+o',txt)  \n",
    "print(x)"
   ]
  },
  {
   "cell_type": "code",
   "execution_count": 38,
   "metadata": {},
   "outputs": [
    {
     "name": "stdout",
     "output_type": "stream",
     "text": [
      "['heo', 'helo']\n"
     ]
    }
   ],
   "source": [
    "import re\n",
    "txt = \"hello heo helo planet\"\n",
    "x = re.findall('he.?o',txt)  \n",
    "print(x)"
   ]
  },
  {
   "cell_type": "code",
   "execution_count": 39,
   "metadata": {},
   "outputs": [
    {
     "name": "stdout",
     "output_type": "stream",
     "text": [
      "['hello']\n"
     ]
    }
   ],
   "source": [
    "import re\n",
    "txt = \"hello heo helo planet\"\n",
    "x = re.findall('he.{2}o',txt)  \n",
    "print(x)"
   ]
  },
  {
   "cell_type": "code",
   "execution_count": 42,
   "metadata": {},
   "outputs": [
    {
     "name": "stdout",
     "output_type": "stream",
     "text": [
      "['spain ', ' plain']\n"
     ]
    }
   ],
   "source": [
    "import re\n",
    "txt = \"The rain in spain falls in the plain\"  \n",
    "x = re.findall('spain | plain',txt)   # either or \n",
    "print(x)"
   ]
  },
  {
   "cell_type": "code",
   "execution_count": 43,
   "metadata": {},
   "outputs": [
    {
     "name": "stdout",
     "output_type": "stream",
     "text": [
      "['spain ']\n"
     ]
    }
   ],
   "source": [
    "import re\n",
    "txt = \"The rain in spain falls in the main\"\n",
    "x = re.findall('spain | plain',txt)  \n",
    "print(x)"
   ]
  },
  {
   "cell_type": "code",
   "execution_count": 44,
   "metadata": {},
   "outputs": [
    {
     "name": "stdout",
     "output_type": "stream",
     "text": [
      "['T', 'h', 'e', ' ', 'r', 'a', 'i', 'n', ' ', 'i', 'n', ' ', 's', 'p', 'a', 'i', 'n']\n"
     ]
    }
   ],
   "source": [
    "import re\n",
    "txt = \"The rain in spain123\"\n",
    "x = re.findall('\\D',txt)  \n",
    "print(x)"
   ]
  },
  {
   "cell_type": "code",
   "execution_count": 45,
   "metadata": {},
   "outputs": [
    {
     "name": "stdout",
     "output_type": "stream",
     "text": [
      "['1', '2', '3']\n"
     ]
    }
   ],
   "source": [
    "import re\n",
    "txt = \"The rain in spain123\"\n",
    "x = re.findall('\\d',txt)  \n",
    "print(x)"
   ]
  },
  {
   "cell_type": "code",
   "execution_count": 46,
   "metadata": {},
   "outputs": [
    {
     "name": "stdout",
     "output_type": "stream",
     "text": [
      "[' ', ' ', ' ']\n"
     ]
    }
   ],
   "source": [
    "import re\n",
    "txt = \"The rain in spain123\"\n",
    "x = re.findall('\\s',txt)  # show space\n",
    "print(x)"
   ]
  },
  {
   "cell_type": "code",
   "execution_count": 48,
   "metadata": {},
   "outputs": [
    {
     "name": "stdout",
     "output_type": "stream",
     "text": [
      "['T', 'h', 'e', 'r', 'a', 'i', 'n', 'i', 'n', 's', 'p', 'a', 'i', 'n', '1', '2', '3']\n"
     ]
    }
   ],
   "source": [
    "import re\n",
    "txt = \"The rain in spain123\"\n",
    "x = re.findall('\\S',txt)  # remove space\n",
    "print(x)"
   ]
  },
  {
   "cell_type": "code",
   "execution_count": 49,
   "metadata": {},
   "outputs": [
    {
     "name": "stdout",
     "output_type": "stream",
     "text": [
      "['T', 'h', 'e', 'r', 'a', 'i', 'n', 'i', 'n', 's', 'p', 'a', 'i', 'n', '1', '2', '3']\n"
     ]
    }
   ],
   "source": [
    "import re\n",
    "txt = \"The rain in spain123\"\n",
    "x = re.findall('\\w',txt)  # remove space and add number also\n",
    "print(x)"
   ]
  },
  {
   "cell_type": "code",
   "execution_count": 50,
   "metadata": {},
   "outputs": [
    {
     "name": "stdout",
     "output_type": "stream",
     "text": [
      "[' ', ' ', ' ']\n"
     ]
    }
   ],
   "source": [
    "import re\n",
    "txt = \"The rain in spain123\"\n",
    "x = re.findall('\\W',txt)  \n",
    "print(x)"
   ]
  },
  {
   "cell_type": "code",
   "execution_count": 51,
   "metadata": {},
   "outputs": [
    {
     "name": "stdout",
     "output_type": "stream",
     "text": [
      "['8', '1', '1', '4', '5']\n"
     ]
    }
   ],
   "source": [
    "import re\n",
    "txt = \"8 times before 11:45 AM\"\n",
    "x = re.findall('[0-9]',txt)  # give only digits\n",
    "print(x)"
   ]
  },
  {
   "cell_type": "code",
   "execution_count": 52,
   "metadata": {},
   "outputs": [
    {
     "name": "stdout",
     "output_type": "stream",
     "text": [
      "['11', '45']\n"
     ]
    }
   ],
   "source": [
    "import re\n",
    "txt = \"8 times before 11:45 AM\"\n",
    "x = re.findall('[0-5][0-9]',txt)  \n",
    "print(x)"
   ]
  },
  {
   "cell_type": "code",
   "execution_count": 55,
   "metadata": {},
   "outputs": [
    {
     "name": "stdout",
     "output_type": "stream",
     "text": [
      "['08', '11', '45']\n"
     ]
    }
   ],
   "source": [
    "import re\n",
    "txt = \"08 times before 11:45 AM\"\n",
    "x = re.findall('[0-5][0-9]',txt)  \n",
    "print(x)"
   ]
  },
  {
   "cell_type": "code",
   "execution_count": 57,
   "metadata": {},
   "outputs": [
    {
     "name": "stdout",
     "output_type": "stream",
     "text": [
      "['8', '11', '45']\n"
     ]
    }
   ],
   "source": [
    "import re\n",
    "txt = \"8 times before 11:45 AM\"\n",
    "x = re.findall('\\d+',txt)  \n",
    "print(x)"
   ]
  },
  {
   "cell_type": "markdown",
   "metadata": {},
   "source": [
    "# Search() Function."
   ]
  },
  {
   "cell_type": "code",
   "execution_count": 67,
   "metadata": {},
   "outputs": [
    {
     "name": "stdout",
     "output_type": "stream",
     "text": [
      "<re.Match object; span=(3, 4), match=' '>\n"
     ]
    }
   ],
   "source": [
    "import re\n",
    "txt = \"The rain in spain\"\n",
    "x = re.search('\\s',txt)  \n",
    "print(x)"
   ]
  },
  {
   "cell_type": "code",
   "execution_count": 73,
   "metadata": {},
   "outputs": [
    {
     "name": "stdout",
     "output_type": "stream",
     "text": [
      "<re.Match object; span=(3, 7), match='    '>\n"
     ]
    }
   ],
   "source": [
    "import re\n",
    "txt = \"The    rain in spain\"\n",
    "x = re.search('\\s+',txt)  \n",
    "print(x)"
   ]
  },
  {
   "cell_type": "code",
   "execution_count": 70,
   "metadata": {},
   "outputs": [
    {
     "name": "stdout",
     "output_type": "stream",
     "text": [
      "(3, 4)\n"
     ]
    }
   ],
   "source": [
    "import re\n",
    "txt = \"The rain in spain\"\n",
    "x = re.search('\\s',txt)  \n",
    "print(x.span())"
   ]
  },
  {
   "cell_type": "code",
   "execution_count": 71,
   "metadata": {},
   "outputs": [
    {
     "name": "stdout",
     "output_type": "stream",
     "text": [
      "3\n"
     ]
    }
   ],
   "source": [
    "import re\n",
    "txt = \"The rain in spain\"\n",
    "x = re.search('\\s',txt)  \n",
    "print(x.start())"
   ]
  },
  {
   "cell_type": "code",
   "execution_count": 72,
   "metadata": {},
   "outputs": [
    {
     "name": "stdout",
     "output_type": "stream",
     "text": [
      "4\n"
     ]
    }
   ],
   "source": [
    "import re\n",
    "txt = \"The rain in spain\"\n",
    "x = re.search('\\s',txt)  \n",
    "print(x.end())"
   ]
  },
  {
   "cell_type": "code",
   "execution_count": 82,
   "metadata": {},
   "outputs": [
    {
     "name": "stdout",
     "output_type": "stream",
     "text": [
      "<re.Match object; span=(4, 8), match='rain'>\n"
     ]
    }
   ],
   "source": [
    "import re\n",
    "txt = \"The rain in spain\"\n",
    "x = re.search('rain',txt)  \n",
    "print(x)"
   ]
  },
  {
   "cell_type": "code",
   "execution_count": 83,
   "metadata": {},
   "outputs": [
    {
     "name": "stdout",
     "output_type": "stream",
     "text": [
      "None\n"
     ]
    }
   ],
   "source": [
    "import re\n",
    "txt = \"The rain in spain\"\n",
    "x = re.search('mm',txt)  \n",
    "print(x)"
   ]
  },
  {
   "cell_type": "code",
   "execution_count": 85,
   "metadata": {},
   "outputs": [
    {
     "name": "stdout",
     "output_type": "stream",
     "text": [
      "<re.Match object; span=(3, 4), match='7'>\n"
     ]
    }
   ],
   "source": [
    "import re\n",
    "txt = \"No 7756spain 123\"\n",
    "x = re.search('\\d',txt)  \n",
    "print(x)"
   ]
  },
  {
   "cell_type": "code",
   "execution_count": 88,
   "metadata": {},
   "outputs": [
    {
     "name": "stdout",
     "output_type": "stream",
     "text": [
      "<re.Match object; span=(3, 7), match='7756'>\n"
     ]
    }
   ],
   "source": [
    "import re\n",
    "txt = \"No 7756spain 123\"\n",
    "x = re.search('\\d+',txt)  \n",
    "print(x)"
   ]
  },
  {
   "cell_type": "code",
   "execution_count": 95,
   "metadata": {},
   "outputs": [
    {
     "name": "stdout",
     "output_type": "stream",
     "text": [
      "<re.Match object; span=(0, 6), match='Python'>\n"
     ]
    }
   ],
   "source": [
    "import re\n",
    "txt = \"Python is fun\"\n",
    "x = re.search('^Python',txt)  \n",
    "print(x)"
   ]
  },
  {
   "cell_type": "code",
   "execution_count": 96,
   "metadata": {},
   "outputs": [
    {
     "name": "stdout",
     "output_type": "stream",
     "text": [
      "None\n"
     ]
    }
   ],
   "source": [
    "import re\n",
    "txt = \"Python is fun\"\n",
    "x = re.search('^Java',txt)  \n",
    "print(x)"
   ]
  },
  {
   "cell_type": "code",
   "execution_count": 97,
   "metadata": {},
   "outputs": [
    {
     "name": "stdout",
     "output_type": "stream",
     "text": [
      "<re.Match object; span=(0, 1), match='P'>\n"
     ]
    }
   ],
   "source": [
    "import re\n",
    "txt = \"Python is fun\"\n",
    "x = re.search('^P',txt)  \n",
    "print(x)"
   ]
  },
  {
   "cell_type": "code",
   "execution_count": null,
   "metadata": {},
   "outputs": [],
   "source": []
  }
 ],
 "metadata": {
  "kernelspec": {
   "display_name": "Python 3",
   "language": "python",
   "name": "python3"
  },
  "language_info": {
   "codemirror_mode": {
    "name": "ipython",
    "version": 3
   },
   "file_extension": ".py",
   "mimetype": "text/x-python",
   "name": "python",
   "nbconvert_exporter": "python",
   "pygments_lexer": "ipython3",
   "version": "3.8.5"
  }
 },
 "nbformat": 4,
 "nbformat_minor": 4
}
